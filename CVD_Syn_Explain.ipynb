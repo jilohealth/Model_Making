{
 "cells": [
  {
   "cell_type": "code",
   "execution_count": 6,
   "id": "83d6379d-de94-4bd4-a74f-d6c0bb1f39e9",
   "metadata": {},
   "outputs": [
    {
     "name": "stdout",
     "output_type": "stream",
     "text": [
      "\n",
      "=== Model Comparison ===\n",
      "              Accuracy  Precision  Recall  F1-Score  ROC-AUC\n",
      "CatBoost         0.943      0.938   0.937     0.938    0.992\n",
      "RandomForest     0.934      0.931   0.920     0.925    0.989\n"
     ]
    },
    {
     "name": "stderr",
     "output_type": "stream",
     "text": [
      "PermutationExplainer explainer: 201it [13:40,  4.14s/it]                                                               \n"
     ]
    },
    {
     "name": "stdout",
     "output_type": "stream",
     "text": [
      "Saved SHAP summary plot for RandomForest\n"
     ]
    },
    {
     "name": "stderr",
     "output_type": "stream",
     "text": [
      "PermutationExplainer explainer: 201it [02:34,  1.23it/s]                                                               \n"
     ]
    },
    {
     "name": "stdout",
     "output_type": "stream",
     "text": [
      "Saved SHAP summary plot for CatBoost\n"
     ]
    }
   ],
   "source": [
    "# ==============================================================\n",
    "#  Cardiac Risk – Benchmark with RandomForest & CatBoost + SHAP\n",
    "# ==============================================================\n",
    "\n",
    "import warnings\n",
    "from pathlib import Path\n",
    "\n",
    "import pandas as pd\n",
    "import numpy as np\n",
    "import matplotlib.pyplot as plt\n",
    "import shap\n",
    "\n",
    "from sklearn.model_selection import train_test_split\n",
    "from sklearn.preprocessing import StandardScaler, OneHotEncoder\n",
    "from sklearn.compose import ColumnTransformer\n",
    "from sklearn.pipeline import Pipeline\n",
    "from sklearn.metrics import (\n",
    "    accuracy_score, precision_score, recall_score,\n",
    "    f1_score, roc_auc_score\n",
    ")\n",
    "from sklearn.ensemble import RandomForestClassifier\n",
    "from catboost import CatBoostClassifier\n",
    "\n",
    "warnings.filterwarnings(\"ignore\")\n",
    "\n",
    "\n",
    "# 1. LOAD & CLEAN\n",
    "DATA_PATH = Path(\"D:/generated_health_risk_data_100k.csv\")\n",
    "LABEL_COL = \"Cardiac Risk\"\n",
    "\n",
    "df = pd.read_csv(DATA_PATH).rename(columns=str.strip)\n",
    "# drop any \"id\" columns\n",
    "df.drop(columns=[c for c in df if \"id\" in c.lower()], errors=\"ignore\", inplace=True)\n",
    "# map Gender\n",
    "if \"Gender\" in df:\n",
    "    df[\"Gender\"] = (df[\"Gender\"].astype(str)\n",
    "                             .str.lower()\n",
    "                             .map({\"male\":1, \"m\":1, \"female\":0, \"f\":0}))\n",
    "\n",
    "# 2. SPLIT\n",
    "train_df, test_df = train_test_split(\n",
    "    df, test_size=0.2,\n",
    "    stratify=df[LABEL_COL].str.lower(),\n",
    "    random_state=42\n",
    ")\n",
    "y_train = train_df[LABEL_COL].str.lower().map({\"low\":0,\"moderate\":1,\"high\":2})\n",
    "y_test  = test_df[LABEL_COL].str.lower().map({\"low\":0,\"moderate\":1,\"high\":2})\n",
    "X_train = train_df.drop(columns=[LABEL_COL])\n",
    "X_test  = test_df .drop(columns=[LABEL_COL])\n",
    "\n",
    "# 3. PREPROCESSOR\n",
    "num_cols = X_train.select_dtypes(include=[\"number\"]).columns.tolist()\n",
    "cat_cols = X_train.select_dtypes(include=[\"object\"]).columns.tolist()\n",
    "pre = ColumnTransformer([\n",
    "    (\"num\", StandardScaler(), num_cols),\n",
    "    (\"cat\", OneHotEncoder(handle_unknown=\"ignore\", sparse_output=False), cat_cols)\n",
    "])\n",
    "\n",
    "# 4. MODEL ZOO\n",
    "models = {\n",
    "    \"RandomForest\": RandomForestClassifier(\n",
    "        n_estimators=400, max_depth=18,\n",
    "        class_weight=\"balanced\", random_state=42\n",
    "    ),\n",
    "    \"CatBoost\": CatBoostClassifier(\n",
    "        verbose=0, random_state=42\n",
    "    )\n",
    "}\n",
    "\n",
    "# 5. FIT & EVALUATE\n",
    "results = {}\n",
    "pipes   = {}\n",
    "for name, clf in models.items():\n",
    "    pipe = Pipeline([(\"prep\", pre), (\"clf\", clf)])\n",
    "    pipe.fit(X_train, y_train)\n",
    "    pipes[name] = pipe\n",
    "\n",
    "    y_pred = pipe.predict(X_test)\n",
    "    try:\n",
    "        y_prob = pipe.predict_proba(X_test)\n",
    "        auc    = roc_auc_score(y_test, y_prob, multi_class=\"ovr\")\n",
    "    except:\n",
    "        auc = np.nan\n",
    "\n",
    "    results[name] = {\n",
    "        \"Accuracy\":  accuracy_score(y_test, y_pred),\n",
    "        \"Precision\": precision_score(y_test, y_pred, average=\"macro\", zero_division=0),\n",
    "        \"Recall\":    recall_score(y_test, y_pred, average=\"macro\", zero_division=0),\n",
    "        \"F1-Score\":  f1_score(y_test, y_pred, average=\"macro\", zero_division=0),\n",
    "        \"ROC-AUC\":   auc\n",
    "    }\n",
    "\n",
    "res_df = pd.DataFrame(results).T.sort_values(\"F1-Score\", ascending=False).round(3)\n",
    "print(\"\\n=== Model Comparison ===\")\n",
    "print(res_df)\n",
    "\n",
    "\n",
    "# 6. SHAP EXPLAINABILITY (one plot per model)\n",
    "bg   = X_train.sample(n=100, random_state=42)\n",
    "test = X_test .sample(n=min(200, len(X_test)), random_state=42)\n",
    "\n",
    "for name, pipe in pipes.items():\n",
    "    explainer   = shap.Explainer(pipe.predict_proba, bg)\n",
    "    shap_vals   = explainer(test)\n",
    "\n",
    "    plt.figure(figsize=(8,6))\n",
    "    shap.summary_plot(shap_vals, show=False)\n",
    "    plt.title(f\"SHAP Summary – {name}\")\n",
    "    plt.tight_layout()\n",
    "    plt.savefig(f\"shap_summary_{name}.png\")\n",
    "    plt.close()\n",
    "\n",
    "    print(f\"Saved SHAP summary plot for {name}\")\n"
   ]
  },
  {
   "cell_type": "code",
   "execution_count": null,
   "id": "bd621115-a24f-4606-88f1-ed67d26dcd0c",
   "metadata": {},
   "outputs": [],
   "source": [
    "  "
   ]
  }
 ],
 "metadata": {
  "kernelspec": {
   "display_name": "Python 3 (ipykernel)",
   "language": "python",
   "name": "python3"
  },
  "language_info": {
   "codemirror_mode": {
    "name": "ipython",
    "version": 3
   },
   "file_extension": ".py",
   "mimetype": "text/x-python",
   "name": "python",
   "nbconvert_exporter": "python",
   "pygments_lexer": "ipython3",
   "version": "3.10.9"
  }
 },
 "nbformat": 4,
 "nbformat_minor": 5
}
