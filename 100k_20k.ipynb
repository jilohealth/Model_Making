{
 "cells": [
  {
   "cell_type": "code",
   "execution_count": 2,
   "id": "154af055-3cb5-4c38-81d8-64a5f667ebac",
   "metadata": {},
   "outputs": [
    {
     "name": "stdout",
     "output_type": "stream",
     "text": [
      "0:\tlearn: 0.7718508\ttest: 0.7755492\tbest: 0.7755492 (0)\ttotal: 54.9ms\tremaining: 54.9s\n",
      "50:\tlearn: 0.9341362\ttest: 0.9390857\tbest: 0.9391524 (48)\ttotal: 2.07s\tremaining: 38.5s\n",
      "100:\tlearn: 0.9340263\ttest: 0.9391921\tbest: 0.9393063 (87)\ttotal: 4.08s\tremaining: 36.3s\n",
      "Stopped by overfitting detector  (50 iterations wait)\n",
      "\n",
      "bestTest = 0.9393063495\n",
      "bestIteration = 87\n",
      "\n",
      "Shrink model to first 88 iterations.\n",
      "✅ Accuracy: 0.9565\n",
      "✅ F1 Score (weighted): 0.9561319141152006\n",
      "✅ Precision (weighted): 0.957083952480159\n",
      "✅ Recall (weighted): 0.9565\n",
      "✅ ROC AUC (OvR): 0.9849855202176254\n",
      "\n",
      "Classification Report:\n",
      "               precision    recall  f1-score   support\n",
      "\n",
      "        High       0.99      0.90      0.94      3000\n",
      "         Low       0.95      1.00      0.97     10000\n",
      "    Moderate       0.95      0.93      0.94      7000\n",
      "\n",
      "    accuracy                           0.96     20000\n",
      "   macro avg       0.96      0.94      0.95     20000\n",
      "weighted avg       0.96      0.96      0.96     20000\n",
      "\n"
     ]
    },
    {
     "data": {
      "image/png": "[encoded data removed]",
      "text/plain": [
       "<Figure size 600x400 with 2 Axes>"
      ]
     },
     "metadata": {},
     "output_type": "display_data"
    }
   ],
   "source": [
    "# STEP-0: Install required packages\n",
    "# pip install catboost scikit-learn matplotlib seaborn\n",
    "\n",
    "import pandas as pd\n",
    "from catboost import CatBoostClassifier, Pool\n",
    "from sklearn.preprocessing import LabelEncoder\n",
    "from sklearn.metrics import (\n",
    "    accuracy_score, f1_score, precision_score, recall_score,\n",
    "    classification_report, confusion_matrix, roc_auc_score\n",
    ")\n",
    "import matplotlib.pyplot as plt\n",
    "import seaborn as sns\n",
    "\n",
    "# STEP-1: Load train and test datasets\n",
    "train_df = pd.read_csv(\"D:\\\\Realistic_Significant_Diabetes_100K.csv\")\n",
    "test_df = pd.read_csv(\"D:\\\\Test_20K.csv\")\n",
    "\n",
    "# Drop PatientID if present\n",
    "if \"PatientID\" in train_df.columns:\n",
    "    train_df = train_df.drop(columns=[\"PatientID\"])\n",
    "if \"PatientID\" in test_df.columns:\n",
    "    test_df = test_df.drop(columns=[\"PatientID\"])\n",
    "\n",
    "# STEP-2: Label encode the target\n",
    "le = LabelEncoder()\n",
    "train_df[\"DiabeticRisk\"] = le.fit_transform(train_df[\"DiabeticRisk\"])\n",
    "test_df[\"DiabeticRisk\"] = le.transform(test_df[\"DiabeticRisk\"])\n",
    "\n",
    "# STEP-3: Define features and categorical columns\n",
    "target = \"DiabeticRisk\"\n",
    "features = [col for col in train_df.columns if col != target]\n",
    "cat_features = train_df[features].select_dtypes(include='object').columns.tolist()\n",
    "\n",
    "# STEP-4: Fix NaN/categorical string issue for CatBoost\n",
    "for col in cat_features:\n",
    "    train_df[col] = train_df[col].astype(str).fillna(\"nan\")\n",
    "    test_df[col] = test_df[col].astype(str).fillna(\"nan\")\n",
    "\n",
    "# STEP-5: Create CatBoost Pool\n",
    "train_pool = Pool(train_df[features], label=train_df[target], cat_features=cat_features)\n",
    "test_pool = Pool(test_df[features], label=test_df[target], cat_features=cat_features)\n",
    "\n",
    "# STEP-6: Train CatBoost Model with custom hyperparameters\n",
    "model = CatBoostClassifier(\n",
    "    iterations=1000,\n",
    "    learning_rate=0.05,\n",
    "    depth=6,\n",
    "    l2_leaf_reg=3,\n",
    "    random_strength=1.0,\n",
    "    rsm=0.9,\n",
    "    bagging_temperature=1,\n",
    "    bootstrap_type='Bayesian',\n",
    "    loss_function='MultiClass',\n",
    "    eval_metric='Accuracy',\n",
    "    custom_metric=['F1', 'Precision', 'Recall', 'AUC'],\n",
    "    od_type='Iter',\n",
    "    od_wait=50,  # Early stopping if no improvement for 50 rounds\n",
    "    auto_class_weights='Balanced',\n",
    "    one_hot_max_size=3,\n",
    "    random_seed=42,\n",
    "    verbose=50\n",
    ")\n",
    "\n",
    "model.fit(train_pool, eval_set=test_pool)\n",
    "\n",
    "# STEP-7: Predictions and Evaluation\n",
    "y_pred = model.predict(test_df[features])\n",
    "y_proba = model.predict_proba(test_df[features])\n",
    "\n",
    "# Metrics\n",
    "print(\"✅ Accuracy:\", accuracy_score(test_df[target], y_pred))\n",
    "print(\"✅ F1 Score (weighted):\", f1_score(test_df[target], y_pred, average='weighted'))\n",
    "print(\"✅ Precision (weighted):\", precision_score(test_df[target], y_pred, average='weighted'))\n",
    "print(\"✅ Recall (weighted):\", recall_score(test_df[target], y_pred, average='weighted'))\n",
    "print(\"✅ ROC AUC (OvR):\", roc_auc_score(test_df[target], y_proba, multi_class='ovr'))\n",
    "\n",
    "# Report\n",
    "print(\"\\nClassification Report:\\n\", classification_report(test_df[target], y_pred, target_names=le.classes_))\n",
    "\n",
    "# Confusion Matrix\n",
    "plt.figure(figsize=(6, 4))\n",
    "sns.heatmap(confusion_matrix(test_df[target], y_pred), annot=True, fmt='d',\n",
    "            xticklabels=le.classes_, yticklabels=le.classes_, cmap='Blues')\n",
    "plt.xlabel(\"Predicted\")\n",
    "plt.ylabel(\"Actual\")\n",
    "plt.title(\"Confusion Matrix\")\n",
    "plt.tight_layout()\n",
    "plt.show()\n"
   ]
  },
  {
   "cell_type": "code",
   "execution_count": 3,
   "id": "2e4769b1-d482-4a39-a65b-570afd28ec21",
   "metadata": {},
   "outputs": [
    {
     "data": {
      "text/plain": [
       "11831"
      ]
     },
     "execution_count": 3,
     "metadata": {},
     "output_type": "execute_result"
    }
   ],
   "source": [
    "\n",
    "len(set(map(tuple, train_df.values)) & set(map(tuple, test_df.values)))\n"
   ]
  },
  {
   "cell_type": "code",
   "execution_count": 5,
   "id": "d4ddb076-74fc-446d-a8db-8cbc608db0b8",
   "metadata": {},
   "outputs": [
    {
     "name": "stdout",
     "output_type": "stream",
     "text": [
      "\n",
      "🔍 Overlapping rows between train and test: 11831 out of 20000 (59.16%)\n",
      "🚨 Data Leakage Detected! Overlap exceeds threshold.\n",
      "\n"
     ]
    }
   ],
   "source": [
    "def check_data_leakage(train_df, test_df, threshold=0.10):\n",
    "    train_tuples = set(map(tuple, train_df.values))\n",
    "    test_tuples = set(map(tuple, test_df.values))\n",
    "\n",
    "    overlapping_rows = len(train_tuples & test_tuples)\n",
    "    test_size = len(test_df)\n",
    "    leak_ratio = overlapping_rows / test_size\n",
    "\n",
    "    print(f\"\\n🔍 Overlapping rows between train and test: {overlapping_rows} out of {test_size} ({leak_ratio:.2%})\")\n",
    "\n",
    "    if leak_ratio > threshold:\n",
    "        print(\"🚨 Data Leakage Detected! Overlap exceeds threshold.\\n\")\n",
    "    else:\n",
    "        print(\"✅ No significant data leakage detected.\\n\")\n",
    "    \n",
    "    return overlapping_rows\n",
    "\n",
    "# ✅ Call the function\n",
    "overlap = check_data_leakage(train_df, test_df)\n"
   ]
  },
  {
   "cell_type": "code",
   "execution_count": null,
   "id": "7f69029d-46a6-43de-b4f3-64b707e5efd5",
   "metadata": {},
   "outputs": [],
   "source": []
  }
 ],
 "metadata": {
  "kernelspec": {
   "display_name": "Python 3 (ipykernel)",
   "language": "python",
   "name": "python3"
  },
  "language_info": {
   "codemirror_mode": {
    "name": "ipython",
    "version": 3
   },
   "file_extension": ".py",
   "mimetype": "text/x-python",
   "name": "python",
   "nbconvert_exporter": "python",
   "pygments_lexer": "ipython3",
   "version": "3.10.9"
  }
 },
 "nbformat": 4,
 "nbformat_minor": 5
}
